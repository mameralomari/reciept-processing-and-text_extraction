{
 "cells": [
  {
   "cell_type": "code",
   "execution_count": 3,
   "metadata": {
    "colab": {
     "base_uri": "https://localhost:8080/"
    },
    "id": "TaTq303tbI6S",
    "outputId": "682e14ba-f5cf-4b66-d3cd-dc0224bc3f57"
   },
   "outputs": [
    {
     "name": "stdout",
     "output_type": "stream",
     "text": [
      "Looking in indexes: https://pypi.org/simple, https://us-python.pkg.dev/colab-wheels/public/simple/\n",
      "Collecting cleanco\n",
      "  Downloading cleanco-2.2-py3-none-any.whl (11 kB)\n",
      "Installing collected packages: cleanco\n",
      "Successfully installed cleanco-2.2\n",
      "Looking in indexes: https://pypi.org/simple, https://us-python.pkg.dev/colab-wheels/public/simple/\n",
      "Collecting name_matching\n",
      "  Downloading name_matching-0.8.4-py3-none-any.whl (111 kB)\n",
      "\u001b[K     |████████████████████████████████| 111 kB 5.2 MB/s \n",
      "\u001b[?25hRequirement already satisfied: pandas in /usr/local/lib/python3.7/dist-packages (from name_matching) (1.3.5)\n",
      "Requirement already satisfied: cleanco in /usr/local/lib/python3.7/dist-packages (from name_matching) (2.2)\n",
      "Requirement already satisfied: tqdm in /usr/local/lib/python3.7/dist-packages (from name_matching) (4.64.0)\n",
      "Requirement already satisfied: numpy in /usr/local/lib/python3.7/dist-packages (from name_matching) (1.21.6)\n",
      "Requirement already satisfied: numba in /usr/local/lib/python3.7/dist-packages (from name_matching) (0.56.0)\n",
      "Requirement already satisfied: scikit-learn in /usr/local/lib/python3.7/dist-packages (from name_matching) (1.0.2)\n",
      "Requirement already satisfied: setuptools in /usr/local/lib/python3.7/dist-packages (from numba->name_matching) (57.4.0)\n",
      "Requirement already satisfied: llvmlite<0.40,>=0.39.0dev0 in /usr/local/lib/python3.7/dist-packages (from numba->name_matching) (0.39.0)\n",
      "Requirement already satisfied: importlib-metadata in /usr/local/lib/python3.7/dist-packages (from numba->name_matching) (4.12.0)\n",
      "Requirement already satisfied: zipp>=0.5 in /usr/local/lib/python3.7/dist-packages (from importlib-metadata->numba->name_matching) (3.8.1)\n",
      "Requirement already satisfied: typing-extensions>=3.6.4 in /usr/local/lib/python3.7/dist-packages (from importlib-metadata->numba->name_matching) (4.1.1)\n",
      "Requirement already satisfied: python-dateutil>=2.7.3 in /usr/local/lib/python3.7/dist-packages (from pandas->name_matching) (2.8.2)\n",
      "Requirement already satisfied: pytz>=2017.3 in /usr/local/lib/python3.7/dist-packages (from pandas->name_matching) (2022.2.1)\n",
      "Requirement already satisfied: six>=1.5 in /usr/local/lib/python3.7/dist-packages (from python-dateutil>=2.7.3->pandas->name_matching) (1.15.0)\n",
      "Requirement already satisfied: joblib>=0.11 in /usr/local/lib/python3.7/dist-packages (from scikit-learn->name_matching) (1.1.0)\n",
      "Requirement already satisfied: threadpoolctl>=2.0.0 in /usr/local/lib/python3.7/dist-packages (from scikit-learn->name_matching) (3.1.0)\n",
      "Requirement already satisfied: scipy>=1.1.0 in /usr/local/lib/python3.7/dist-packages (from scikit-learn->name_matching) (1.7.3)\n",
      "Installing collected packages: name-matching\n",
      "Successfully installed name-matching-0.8.4\n"
     ]
    }
   ],
   "source": [
    "!pip install cleanco\n",
    "!pip install name_matching"
   ]
  },
  {
   "cell_type": "code",
   "execution_count": 6,
   "metadata": {
    "id": "czywF9D0vESp"
   },
   "outputs": [],
   "source": [
    "import unicodedata\n",
    "import re\n",
    "\n",
    "from name_matching.name_matcher import NameMatcher\n",
    "from sklearn.feature_extraction.text import TfidfVectorizer\n",
    "from cleanco import basename"
   ]
  },
  {
   "cell_type": "markdown",
   "metadata": {
    "id": "LmSHGrZig8tY"
   },
   "source": [
    "***Definition for Company Name Matching function***"
   ]
  },
  {
   "cell_type": "code",
   "execution_count": 7,
   "metadata": {
    "id": "rowcfSlkg6tK"
   },
   "outputs": [],
   "source": [
    "def find_company_name(company_name, company_name_dataset):\n",
    "\n",
    "  # Package can be found at https://github.com/DeNederlandscheBank/name_matching\n",
    "\n",
    "  # 1. Preprocessing data so that name matching is less computationally exprensive\n",
    "\n",
    "  # Remove all capital letters, replace non-ASCII characters,\n",
    "  company_name = company_name.lower()\n",
    "  company_name = unicodedata.normalize('NFKD', company_name).encode('ASCII', 'ignore').decode()\n",
    "  \n",
    "  # Remove any character that is not a word or space character with nothing\n",
    "  company_name = re.sub(r'[^\\w\\s]','',company_name)\n",
    "  suffix = basename(company_name)\n",
    "\n",
    "  # Remove the most common words using regular expressions.\n",
    "  company_name = ' '.join(re.sub(r'\\b{}\\b'.format(re.escape(suffix)), '', company_name).split())\n",
    "\n",
    "  # 2. We perform Cosine Similarity next so the potential number of matches can be reduced from a few million down to about fifty.\n",
    "  # This is done via the conversion of a string to an n-gram and applying a tf-idf transform.\n",
    "  vec = TfidfVectorizer(lowercase=False, analyzer=\"char\", ngram_range=(2, 3))\n",
    "  vec.fit(company_name_dataset)\n",
    "  vec.transform(company_name)\n",
    "\n",
    "  # 3. Fuzzy String Matching \n",
    "\n",
    "  # initialise the name matcher\n",
    "  matcher = NameMatcher(column='name', \n",
    "                        number_of_matches=3, \n",
    "                        legal_suffixes=True, \n",
    "                        common_words=False, \n",
    "                        top_n=50, \n",
    "                        verbose=True)\n",
    "\n",
    "  # adjust the distance metrics to use\n",
    "  matcher.set_distance_metrics(discounted_levenshtein=False,\n",
    "                               bag=True,\n",
    "                               typo=True,\n",
    "                               refined_soundex=True)\n",
    "\n",
    "  # load the data to which the names should be matched\n",
    "  matcher.load_and_process_master_data(company_name_dataset, transform=True)\n",
    "\n",
    "  # perform the name matching on the data you want matched\n",
    "  matches = matcher.match_names(to_be_matched=company_name, column_matching='name')"
   ]
  },
  {
   "cell_type": "markdown",
   "metadata": {
    "id": "WlgESlfA5074"
   },
   "source": [
    "***Definition for Company Classifier***"
   ]
  },
  {
   "cell_type": "code",
   "execution_count": null,
   "metadata": {
    "id": "KUOqJpKJ50Ch"
   },
   "outputs": [],
   "source": [
    "def classify_company():\n",
    "\n",
    "  # See if I can reverse engineer something from the notebook for\n",
    "  # https://www.kaggle.com/code/thecobbler/classifying-company-names-as-per-their-industries/notebook\n",
    "  # Or use LDA\n",
    "\n",
    "  return "
   ]
  }
 ],
 "metadata": {
  "colab": {
   "collapsed_sections": [],
   "name": "CompanyClassifier.ipynb",
   "provenance": []
  },
  "kernelspec": {
   "display_name": "Python 3 (ipykernel)",
   "language": "python",
   "name": "python3"
  },
  "language_info": {
   "codemirror_mode": {
    "name": "ipython",
    "version": 3
   },
   "file_extension": ".py",
   "mimetype": "text/x-python",
   "name": "python",
   "nbconvert_exporter": "python",
   "pygments_lexer": "ipython3",
   "version": "3.9.12"
  }
 },
 "nbformat": 4,
 "nbformat_minor": 4
}
