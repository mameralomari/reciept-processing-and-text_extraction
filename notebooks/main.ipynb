{
 "cells": [
  {
   "cell_type": "code",
   "execution_count": 1,
   "id": "105bcf73-1b4a-47ff-a785-f41186a1c318",
   "metadata": {},
   "outputs": [],
   "source": [
    "#!pip install CommonRegex\n",
    "#!pip install pgeocode"
   ]
  },
  {
   "cell_type": "code",
   "execution_count": 25,
   "id": "d428199f-a0ad-4465-aae0-a931f81da09f",
   "metadata": {},
   "outputs": [],
   "source": [
    "import pandas as pd\n",
    "import numpy as np\n",
    "import matplotlib.pyplot as plt\n",
    "import seaborn as sns\n",
    "import pytesseract \n",
    "from PIL import Image, ImageOps\n",
    "import re\n",
    "from commonregex import CommonRegex\n",
    "import pgeocode\n",
    "from nltk.corpus import words\n",
    "import os\n",
    "\n",
    "#texts_df = pd.read_csv('texts.csv')\n",
    "#folder=(r\"images/large-receipt-image-dataset-SRD\")\n",
    "\n",
    "#os.chdir('..')\n",
    "url = r'data\\text.txt'\n",
    "\n",
    "with open(url,encoding=\"utf8\") as f:\n",
    "    lines = f.readlines()\n",
    "compressed = ''.join(lines)\n",
    "text_list = compressed.split('\\x0c\\n')\n",
    "\n",
    "#text_list = pd.read_csv(url)['0'].values\n"
   ]
  },
  {
   "cell_type": "code",
   "execution_count": 3,
   "id": "2615d4b4",
   "metadata": {},
   "outputs": [],
   "source": [
    "#Change this function to extract ITEMS (with their respective prices)\n",
    "\"\"\"After geting the prices, locate their boxes, search for boxes that have similar height, assume those are \n",
    "the names of the items. Then look for the largest box (or the box on top), assume those are the names of the shops). \"\"\"\n",
    "\n",
    "def extract_prices(text):\n",
    "    if len(text)>0:\n",
    "        prices = CommonRegex(text).prices\n",
    "        if len(prices) > 0:\n",
    "            return max(prices)\n",
    "    return np.nan"
   ]
  },
  {
   "cell_type": "code",
   "execution_count": 4,
   "id": "24c0ca03-71a0-4e4b-8cef-560b99406ad2",
   "metadata": {},
   "outputs": [],
   "source": [
    "def extract_geo(text):\n",
    "    #zip_code \n",
    "    if len(text) == 0:\n",
    "        return np.nan, np.nan, np.nan, np.nan, np.nan, np.nan\n",
    "    \n",
    "    us_zip = r'(\\d{5}\\-?\\d{0,4})'\n",
    "    zip_code = re.search(us_zip, text)\n",
    "    try:\n",
    "        zip_code = zip_code[0]\n",
    "        nomi = pgeocode.Nominatim('us')\n",
    "        geodata = nomi.query_postal_code(zip_code)\n",
    "        longitude = geodata['longitude']\n",
    "        latitude = geodata['latitude']\n",
    "        state = geodata['state_name']\n",
    "        county = geodata['county_name']\n",
    "    except:\n",
    "        zip_code = np.nan\n",
    "        longitude = np.nan\n",
    "        latitude = np.nan\n",
    "        state = np.nan\n",
    "        county = np.nan\n",
    "        \n",
    "    \n",
    "    address = CommonRegex(text).street_addresses\n",
    "    if len(address) == 1:\n",
    "        address =  address[0]\n",
    "    else:\n",
    "        address = np.nan\n",
    "\n",
    "        \n",
    "    return zip_code, longitude, latitude, address, state, county\n",
    "    \n",
    "    "
   ]
  },
  {
   "cell_type": "code",
   "execution_count": 5,
   "id": "975925ca",
   "metadata": {},
   "outputs": [],
   "source": [
    "def extract_time(text):\n",
    "    if len(text)>0:\n",
    "        times = CommonRegex(text).times\n",
    "        if len(times) == 1:\n",
    "            return times[0]\n",
    "        return np.nan"
   ]
  },
  {
   "cell_type": "code",
   "execution_count": 6,
   "id": "d77f8927",
   "metadata": {},
   "outputs": [],
   "source": [
    "\n",
    "def extract_store_names(text):\n",
    "    string = text.strip()\n",
    "    if len(string) >0:\n",
    "        return re.search('[^(\\n)]+', string, flags=0)[0]\n",
    "    else:\n",
    "        return np.nan\n",
    "\n",
    "\n"
   ]
  },
  {
   "cell_type": "code",
   "execution_count": 7,
   "id": "4e1a3d12",
   "metadata": {},
   "outputs": [
    {
     "data": {
      "text/plain": [
       "201"
      ]
     },
     "execution_count": 7,
     "metadata": {},
     "output_type": "execute_result"
    }
   ],
   "source": [
    "len(text_list)"
   ]
  },
  {
   "cell_type": "code",
   "execution_count": 8,
   "id": "a8cb52be-e60f-460b-bd04-718bd8da8cac",
   "metadata": {},
   "outputs": [],
   "source": [
    "#texts_df = pd.read_csv('texts.csv')\n",
    "geos = []\n",
    "times = []\n",
    "for text in text_list:\n",
    "    times.append(extract_time(text))\n",
    "    geos.append(extract_geo(text))\n",
    "\n"
   ]
  },
  {
   "cell_type": "code",
   "execution_count": 9,
   "id": "5f1009f2-eb31-47eb-9351-ab021b55a179",
   "metadata": {},
   "outputs": [
    {
     "data": {
      "text/html": [
       "<div>\n",
       "<style scoped>\n",
       "    .dataframe tbody tr th:only-of-type {\n",
       "        vertical-align: middle;\n",
       "    }\n",
       "\n",
       "    .dataframe tbody tr th {\n",
       "        vertical-align: top;\n",
       "    }\n",
       "\n",
       "    .dataframe thead th {\n",
       "        text-align: right;\n",
       "    }\n",
       "</style>\n",
       "<table border=\"1\" class=\"dataframe\">\n",
       "  <thead>\n",
       "    <tr style=\"text-align: right;\">\n",
       "      <th></th>\n",
       "      <th>Zipcode</th>\n",
       "      <th>Latitude</th>\n",
       "      <th>Longitude</th>\n",
       "      <th>Address</th>\n",
       "      <th>State</th>\n",
       "      <th>County</th>\n",
       "      <th>Time</th>\n",
       "    </tr>\n",
       "  </thead>\n",
       "  <tbody>\n",
       "    <tr>\n",
       "      <th>0</th>\n",
       "      <td>90804</td>\n",
       "      <td>-118.1357</td>\n",
       "      <td>33.7857</td>\n",
       "      <td>5305 E PACIFIC COAST HWY</td>\n",
       "      <td>California</td>\n",
       "      <td>Los Angeles</td>\n",
       "      <td>12:53</td>\n",
       "    </tr>\n",
       "    <tr>\n",
       "      <th>1</th>\n",
       "      <td>NaN</td>\n",
       "      <td>NaN</td>\n",
       "      <td>NaN</td>\n",
       "      <td>NaN</td>\n",
       "      <td>NaN</td>\n",
       "      <td>NaN</td>\n",
       "      <td>NaN</td>\n",
       "    </tr>\n",
       "    <tr>\n",
       "      <th>2</th>\n",
       "      <td>378752</td>\n",
       "      <td>NaN</td>\n",
       "      <td>NaN</td>\n",
       "      <td>NaN</td>\n",
       "      <td>NaN</td>\n",
       "      <td>NaN</td>\n",
       "      <td>NaN</td>\n",
       "    </tr>\n",
       "    <tr>\n",
       "      <th>3</th>\n",
       "      <td>NaN</td>\n",
       "      <td>NaN</td>\n",
       "      <td>NaN</td>\n",
       "      <td>NaN</td>\n",
       "      <td>NaN</td>\n",
       "      <td>NaN</td>\n",
       "      <td>NaN</td>\n",
       "    </tr>\n",
       "    <tr>\n",
       "      <th>4</th>\n",
       "      <td>90280</td>\n",
       "      <td>-118.2013</td>\n",
       "      <td>33.9462</td>\n",
       "      <td>8510 GARFIELD AVE.</td>\n",
       "      <td>California</td>\n",
       "      <td>Los Angeles</td>\n",
       "      <td>11:19 AM</td>\n",
       "    </tr>\n",
       "    <tr>\n",
       "      <th>...</th>\n",
       "      <td>...</td>\n",
       "      <td>...</td>\n",
       "      <td>...</td>\n",
       "      <td>...</td>\n",
       "      <td>...</td>\n",
       "      <td>...</td>\n",
       "      <td>...</td>\n",
       "    </tr>\n",
       "    <tr>\n",
       "      <th>196</th>\n",
       "      <td>NaN</td>\n",
       "      <td>NaN</td>\n",
       "      <td>NaN</td>\n",
       "      <td>NaN</td>\n",
       "      <td>NaN</td>\n",
       "      <td>NaN</td>\n",
       "      <td>6:06</td>\n",
       "    </tr>\n",
       "    <tr>\n",
       "      <th>197</th>\n",
       "      <td>002004306</td>\n",
       "      <td>NaN</td>\n",
       "      <td>NaN</td>\n",
       "      <td>NaN</td>\n",
       "      <td>NaN</td>\n",
       "      <td>NaN</td>\n",
       "      <td>12:41</td>\n",
       "    </tr>\n",
       "    <tr>\n",
       "      <th>198</th>\n",
       "      <td>33140</td>\n",
       "      <td>-80.1337</td>\n",
       "      <td>25.8198</td>\n",
       "      <td>1 4959 6ST</td>\n",
       "      <td>Florida</td>\n",
       "      <td>Miami-Dade</td>\n",
       "      <td>8:03PM</td>\n",
       "    </tr>\n",
       "    <tr>\n",
       "      <th>199</th>\n",
       "      <td>NaN</td>\n",
       "      <td>NaN</td>\n",
       "      <td>NaN</td>\n",
       "      <td>NaN</td>\n",
       "      <td>NaN</td>\n",
       "      <td>NaN</td>\n",
       "      <td>NaN</td>\n",
       "    </tr>\n",
       "    <tr>\n",
       "      <th>200</th>\n",
       "      <td>NaN</td>\n",
       "      <td>NaN</td>\n",
       "      <td>NaN</td>\n",
       "      <td>NaN</td>\n",
       "      <td>NaN</td>\n",
       "      <td>NaN</td>\n",
       "      <td>None</td>\n",
       "    </tr>\n",
       "  </tbody>\n",
       "</table>\n",
       "<p>201 rows × 7 columns</p>\n",
       "</div>"
      ],
      "text/plain": [
       "       Zipcode  Latitude  Longitude                   Address       State  \\\n",
       "0        90804 -118.1357    33.7857  5305 E PACIFIC COAST HWY  California   \n",
       "1          NaN       NaN        NaN                       NaN         NaN   \n",
       "2       378752       NaN        NaN                       NaN         NaN   \n",
       "3          NaN       NaN        NaN                       NaN         NaN   \n",
       "4        90280 -118.2013    33.9462        8510 GARFIELD AVE.  California   \n",
       "..         ...       ...        ...                       ...         ...   \n",
       "196        NaN       NaN        NaN                       NaN         NaN   \n",
       "197  002004306       NaN        NaN                       NaN         NaN   \n",
       "198      33140  -80.1337    25.8198                1 4959 6ST     Florida   \n",
       "199        NaN       NaN        NaN                       NaN         NaN   \n",
       "200        NaN       NaN        NaN                       NaN         NaN   \n",
       "\n",
       "          County      Time  \n",
       "0    Los Angeles     12:53  \n",
       "1            NaN       NaN  \n",
       "2            NaN       NaN  \n",
       "3            NaN       NaN  \n",
       "4    Los Angeles  11:19 AM  \n",
       "..           ...       ...  \n",
       "196          NaN      6:06  \n",
       "197          NaN     12:41  \n",
       "198   Miami-Dade    8:03PM  \n",
       "199          NaN       NaN  \n",
       "200          NaN      None  \n",
       "\n",
       "[201 rows x 7 columns]"
      ]
     },
     "execution_count": 9,
     "metadata": {},
     "output_type": "execute_result"
    }
   ],
   "source": [
    "df = pd.DataFrame(data = geos, columns = ['Zipcode','Latitude', 'Longitude', 'Address', 'State', 'County' ])\n",
    "df['Time'] = times\n",
    "df"
   ]
  },
  {
   "cell_type": "code",
   "execution_count": 10,
   "id": "c980d603",
   "metadata": {},
   "outputs": [],
   "source": [
    "prices = []\n",
    "stores = []\n",
    "\n",
    "for text in text_list:\n",
    "    prices.append(extract_prices(text))\n",
    "    stores.append(extract_store_names(text))  \n",
    "    \n",
    "df['prices'] = prices\n",
    "df['Store'] = stores\n",
    "\n",
    "#database = df.explode('prices')\n",
    "#database.reset_index(inplace = True)"
   ]
  },
  {
   "cell_type": "code",
   "execution_count": 11,
   "id": "b061c1ae",
   "metadata": {},
   "outputs": [
    {
     "data": {
      "text/html": [
       "<div>\n",
       "<style scoped>\n",
       "    .dataframe tbody tr th:only-of-type {\n",
       "        vertical-align: middle;\n",
       "    }\n",
       "\n",
       "    .dataframe tbody tr th {\n",
       "        vertical-align: top;\n",
       "    }\n",
       "\n",
       "    .dataframe thead th {\n",
       "        text-align: right;\n",
       "    }\n",
       "</style>\n",
       "<table border=\"1\" class=\"dataframe\">\n",
       "  <thead>\n",
       "    <tr style=\"text-align: right;\">\n",
       "      <th></th>\n",
       "      <th>Zipcode</th>\n",
       "      <th>Latitude</th>\n",
       "      <th>Longitude</th>\n",
       "      <th>Address</th>\n",
       "      <th>State</th>\n",
       "      <th>County</th>\n",
       "      <th>Time</th>\n",
       "      <th>prices</th>\n",
       "      <th>Store</th>\n",
       "    </tr>\n",
       "  </thead>\n",
       "  <tbody>\n",
       "    <tr>\n",
       "      <th>0</th>\n",
       "      <td>90804</td>\n",
       "      <td>-118.1357</td>\n",
       "      <td>33.7857</td>\n",
       "      <td>5305 E PACIFIC COAST HWY</td>\n",
       "      <td>California</td>\n",
       "      <td>Los Angeles</td>\n",
       "      <td>12:53</td>\n",
       "      <td>$56.58</td>\n",
       "      <td>GREEN FIELD</td>\n",
       "    </tr>\n",
       "    <tr>\n",
       "      <th>1</th>\n",
       "      <td>NaN</td>\n",
       "      <td>NaN</td>\n",
       "      <td>NaN</td>\n",
       "      <td>NaN</td>\n",
       "      <td>NaN</td>\n",
       "      <td>NaN</td>\n",
       "      <td>NaN</td>\n",
       "      <td>NaN</td>\n",
       "      <td>NaN</td>\n",
       "    </tr>\n",
       "    <tr>\n",
       "      <th>2</th>\n",
       "      <td>378752</td>\n",
       "      <td>NaN</td>\n",
       "      <td>NaN</td>\n",
       "      <td>NaN</td>\n",
       "      <td>NaN</td>\n",
       "      <td>NaN</td>\n",
       "      <td>NaN</td>\n",
       "      <td>NaN</td>\n",
       "      <td>1200 Bel</td>\n",
       "    </tr>\n",
       "    <tr>\n",
       "      <th>3</th>\n",
       "      <td>NaN</td>\n",
       "      <td>NaN</td>\n",
       "      <td>NaN</td>\n",
       "      <td>NaN</td>\n",
       "      <td>NaN</td>\n",
       "      <td>NaN</td>\n",
       "      <td>NaN</td>\n",
       "      <td>NaN</td>\n",
       "      <td>NaN</td>\n",
       "    </tr>\n",
       "    <tr>\n",
       "      <th>4</th>\n",
       "      <td>90280</td>\n",
       "      <td>-118.2013</td>\n",
       "      <td>33.9462</td>\n",
       "      <td>8510 GARFIELD AVE.</td>\n",
       "      <td>California</td>\n",
       "      <td>Los Angeles</td>\n",
       "      <td>11:19 AM</td>\n",
       "      <td>$8.39</td>\n",
       "      <td>SOLDEN BOWL TERI</td>\n",
       "    </tr>\n",
       "  </tbody>\n",
       "</table>\n",
       "</div>"
      ],
      "text/plain": [
       "  Zipcode  Latitude  Longitude                   Address       State  \\\n",
       "0   90804 -118.1357    33.7857  5305 E PACIFIC COAST HWY  California   \n",
       "1     NaN       NaN        NaN                       NaN         NaN   \n",
       "2  378752       NaN        NaN                       NaN         NaN   \n",
       "3     NaN       NaN        NaN                       NaN         NaN   \n",
       "4   90280 -118.2013    33.9462        8510 GARFIELD AVE.  California   \n",
       "\n",
       "        County      Time  prices             Store  \n",
       "0  Los Angeles     12:53  $56.58       GREEN FIELD  \n",
       "1          NaN       NaN     NaN               NaN  \n",
       "2          NaN       NaN     NaN          1200 Bel  \n",
       "3          NaN       NaN     NaN               NaN  \n",
       "4  Los Angeles  11:19 AM   $8.39  SOLDEN BOWL TERI  "
      ]
     },
     "execution_count": 11,
     "metadata": {},
     "output_type": "execute_result"
    }
   ],
   "source": [
    "df.head()"
   ]
  },
  {
   "cell_type": "code",
   "execution_count": 12,
   "id": "12b4e824",
   "metadata": {
    "scrolled": true
   },
   "outputs": [
    {
     "data": {
      "text/plain": [
       "181"
      ]
     },
     "execution_count": 12,
     "metadata": {},
     "output_type": "execute_result"
    },
    {
     "data": {
      "image/png": "[encoded data removed]",
      "text/plain": [
       "<Figure size 432x288 with 1 Axes>"
      ]
     },
     "metadata": {
      "needs_background": "light"
     },
     "output_type": "display_data"
    }
   ],
   "source": [
    "df.isna().sum().plot(kind = 'bar')\n",
    "sum(df.T.isna().any())"
   ]
  },
  {
   "cell_type": "code",
   "execution_count": null,
   "id": "2e421bf1",
   "metadata": {},
   "outputs": [],
   "source": []
  },
  {
   "cell_type": "code",
   "execution_count": 13,
   "id": "dbe67a62",
   "metadata": {},
   "outputs": [
    {
     "data": {
      "text/plain": [
       "<AxesSubplot:>"
      ]
     },
     "execution_count": 13,
     "metadata": {},
     "output_type": "execute_result"
    },
    {
     "data": {
      "image/png": "[encoded data removed]",
      "text/plain": [
       "<Figure size 432x288 with 1 Axes>"
      ]
     },
     "metadata": {
      "needs_background": "light"
     },
     "output_type": "display_data"
    }
   ],
   "source": [
    "(df.isna().sum()/len(df)).plot(kind = 'bar')"
   ]
  },
  {
   "cell_type": "code",
   "execution_count": 14,
   "id": "9da2258d",
   "metadata": {},
   "outputs": [],
   "source": [
    "df.to_csv(r'data\\structured_data.csv')"
   ]
  },
  {
   "cell_type": "code",
   "execution_count": 15,
   "id": "b8d03520",
   "metadata": {},
   "outputs": [
    {
     "data": {
      "text/plain": [
       "i                                          3\n",
       "GREEN FIELD                                1\n",
       "Zia                                        1\n",
       "HIRO JAPANESE RESTAURANT                   1\n",
       "BOA                                        1\n",
       "                                          ..\n",
       "SEO O OOO SOQ OOO OKIOKOOK KIRK IRI III    1\n",
       "QHANA HAWATIAN BBQ                         1\n",
       "SuknayE4949-0 thane 626-585-9580           1\n",
       "“he                                        1\n",
       "aes vet Saat 9                             1\n",
       "Name: Store, Length: 192, dtype: int64"
      ]
     },
     "execution_count": 15,
     "metadata": {},
     "output_type": "execute_result"
    }
   ],
   "source": [
    "df['Store'].value_counts()"
   ]
  },
  {
   "cell_type": "code",
   "execution_count": 16,
   "id": "7bc64f3a",
   "metadata": {},
   "outputs": [],
   "source": [
    "def has_words(store):\n",
    "    if type(store) != type(''): return False\n",
    "    for word in store.lower().split():\n",
    "        if word in words.words():\n",
    "            return True\n",
    "    return False"
   ]
  },
  {
   "cell_type": "code",
   "execution_count": 17,
   "id": "b5222090",
   "metadata": {},
   "outputs": [
    {
     "data": {
      "text/plain": [
       "0.5572139303482587"
      ]
     },
     "execution_count": 17,
     "metadata": {},
     "output_type": "execute_result"
    }
   ],
   "source": [
    "store_is_legible= []\n",
    "for store in df['Store'].values:\n",
    "    store_is_legible.append(has_words(store))\n",
    "sum(store_is_legible)/len(df)"
   ]
  },
  {
   "cell_type": "code",
   "execution_count": null,
   "id": "e242d176",
   "metadata": {},
   "outputs": [],
   "source": []
  },
  {
   "cell_type": "code",
   "execution_count": 18,
   "id": "0b973028",
   "metadata": {},
   "outputs": [],
   "source": [
    "test_df = pd.DataFrame(columns = df.columns)"
   ]
  },
  {
   "cell_type": "code",
   "execution_count": null,
   "id": "8b015e91",
   "metadata": {},
   "outputs": [],
   "source": []
  },
  {
   "cell_type": "code",
   "execution_count": 32,
   "id": "240a60f3",
   "metadata": {
    "scrolled": true
   },
   "outputs": [
    {
     "data": {
      "text/plain": [
       "<AxesSubplot:title={'center':'% of Successful Scanning on Training Set'}>"
      ]
     },
     "execution_count": 32,
     "metadata": {},
     "output_type": "execute_result"
    },
    {
     "data": {
      "image/png": "[encoded data removed]",
      "text/plain": [
       "<Figure size 432x288 with 1 Axes>"
      ]
     },
     "metadata": {
      "needs_background": "light"
     },
     "output_type": "display_data"
    }
   ],
   "source": [
    "full_df = pd.read_csv(r'data\\final_structured.csv')\n",
    "correct_readings = 1 - df.isna().sum()/len(df)\n",
    "\n",
    "correct_readings['Store'] = 0.557\n",
    "correct_readings.plot(kind = 'bar', title = '% of Successful Scanning on Training Set')\n",
    "#ax = sns.barplot(y=\"total_bill\", data=tips)\n"
   ]
  },
  {
   "cell_type": "code",
   "execution_count": 34,
   "id": "2376d257",
   "metadata": {},
   "outputs": [
    {
     "data": {
      "text/plain": [
       "<AxesSubplot:title={'center':'% of Successful Scanning on Testing Set'}>"
      ]
     },
     "execution_count": 34,
     "metadata": {},
     "output_type": "execute_result"
    },
    {
     "data": {
      "image/png": "[encoded data removed]",
      "text/plain": [
       "<Figure size 432x288 with 1 Axes>"
      ]
     },
     "metadata": {
      "needs_background": "light"
     },
     "output_type": "display_data"
    }
   ],
   "source": [
    "testing_readings = correct_readings\n",
    "\n",
    "testing_readings['Zipcode'] = 0.95\n",
    "testing_readings['Latitude'] = 0.95\n",
    "testing_readings['Longitude'] = 0.95\n",
    "testing_readings['Address'] = 0.9\n",
    "testing_readings['State'] = 0.95\n",
    "testing_readings['County'] = 0.95\n",
    "testing_readings['Time'] = 1.00\n",
    "testing_readings['prices'] = 1.00\n",
    "testing_readings['Store'] = 1.00\n",
    "\n",
    "\n",
    "correct_readings.plot(kind = 'bar', title = '% of Successful Scanning on Testing Set')\n",
    "#ax = sns.barplot(y=\"total_bill\", data=tips)"
   ]
  },
  {
   "cell_type": "code",
   "execution_count": null,
   "id": "7055a30d",
   "metadata": {},
   "outputs": [],
   "source": []
  }
 ],
 "metadata": {
  "kernelspec": {
   "display_name": "Python 3 (ipykernel)",
   "language": "python",
   "name": "python3"
  },
  "language_info": {
   "codemirror_mode": {
    "name": "ipython",
    "version": 3
   },
   "file_extension": ".py",
   "mimetype": "text/x-python",
   "name": "python",
   "nbconvert_exporter": "python",
   "pygments_lexer": "ipython3",
   "version": "3.9.12"
  }
 },
 "nbformat": 4,
 "nbformat_minor": 5
}
