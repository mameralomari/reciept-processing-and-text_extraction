{
 "cells": [
  {
   "cell_type": "code",
   "execution_count": null,
   "id": "9000fd84-4caf-4d2f-8a8e-72fbd9e76066",
   "metadata": {},
   "outputs": [],
   "source": [
    "#!pip install pytesseract \n",
    "#!pip install opencv \n",
    "#!pip install numpy as np\n",
    "#!pip install pillow\n",
    "#!pip install postal"
   ]
  },
  {
   "cell_type": "code",
   "execution_count": 1,
   "id": "1a0dc7e5-7010-4f89-b8a7-d0e0d36bb920",
   "metadata": {},
   "outputs": [],
   "source": [
    "import pytesseract \n",
    "from PIL import Image, ImageOps\n",
    "import numpy as np\n",
    "# from postal.parser import parse_address"
   ]
  },
  {
   "cell_type": "code",
   "execution_count": 6,
   "id": "2a6fd9da-0f18-40f5-b302-b7d7ec675d52",
   "metadata": {},
   "outputs": [],
   "source": [
    "\n",
    "def extract_text(url):\n",
    "    import pytesseract \n",
    "    from PIL import Image\n",
    "    \n",
    "    \"\"\"extracts test out of image\n",
    "    --inputs= image_url \"\"\"\n",
    "    #opening the image\n",
    "    im=Image.open(url)\n",
    "    grey= im.convert(mode=\"L\")\n",
    "    threshold= 160\n",
    "    image=grey.point(lambda x: 255 if x > threshold else 0)\n",
    "    \n",
    "    #configuration for pytesseract to operate with text extraction\n",
    "    config = ('-l eng --oem 1 --psm 3')\n",
    "    text = pytesseract.image_to_string(image, config=config)\n",
    "    \n",
    "    return text"
   ]
  },
  {
   "cell_type": "code",
   "execution_count": 154,
   "id": "17329782-a490-4168-82ae-625d205fb5fa",
   "metadata": {
    "tags": []
   },
   "outputs": [
    {
     "name": "stdout",
     "output_type": "stream",
     "text": [
      "#14\n",
      "\n",
      "HP Pho Ga\n",
      "8930 Mission Dr. #102\n",
      "pp ooee 91770\n",
      "Phone (626)268-9999\n",
      "\n",
      " \n",
      "     \n",
      "\n",
      "bate: Apr 01, 2019 Time; 05:\n",
      "\n",
      "Server: Admin\n",
      "\n",
      "Bill; 59980 Table : 14\n",
      "\n",
      "1 Pho Ga (Small) 8.00\n",
      "\n",
      "1 Pho Ga (Large) 9.00\n",
      "\n",
      "1 Gor Cuon 5.25\n",
      "“Subtotal 22.25\n",
      "TAX 211\n",
      "Total 24.36\n",
      "8. Service Gharge- 40% 8.90\n",
      "\n",
      "Total $33 26\n",
      "\n",
      "Suggested Tip : 15% (3,65)\n",
      "\n",
      "18% (4.38)\n",
      "\n",
      "20% (4.87)\n",
      "Open Time : Apr 01, 2019 04:39PM\n",
      "Printed By : Admin\n",
      "\n",
      "Thank you for Coming !\n",
      "\f",
      "\n"
     ]
    }
   ],
   "source": [
    "image=(r\"images/large-receipt-image-dataset-SRD/1012-receipt.jpg\")\n",
    "text=extract_text(image)\n",
    "print (text)"
   ]
  },
  {
   "cell_type": "markdown",
   "id": "fb41c53f-f863-4f93-88c1-a01e4ae1001a",
   "metadata": {
    "tags": []
   },
   "source": [
    "# Image cleaning and cropping function\n",
    "-- this function performs the following transformations \n",
    "\n",
    "---- resize to 640,480\n",
    "n\\\n",
    "---- BGR to grey\n",
    "n\\\n",
    "---- Apply GaussianBlur (5,5),1\n",
    "n\\\n",
    "---- Uses adaptive threshold (guissan Binary)\n",
    "n\\\n",
    "---- dialate the image\n",
    "n\\\n",
    "---- erode \n",
    "n\\\n",
    "---- find contours\n",
    "n\\\n",
    "---- apply contours\n",
    "n\\\n",
    "---- crop image based and contours and save them "
   ]
  },
  {
   "cell_type": "code",
   "execution_count": 4,
   "id": "b6e4def6-dd2b-49de-8e22-388106633833",
   "metadata": {},
   "outputs": [],
   "source": [
    "\n",
    "\n",
    "def clean_image(pathImage):\n",
    "    import cv2\n",
    "    import numpy as np\n",
    "    import utlis\n",
    "\n",
    "    #cap.set(10,160)\n",
    "    heightImg = 1920\n",
    "    widthImg  = 1080\n",
    "\n",
    "    \n",
    "    #pathImage = r\"images/large-receipt-image-dataset-SRD/1013-receipt.jpg\"\n",
    "\n",
    "    img = cv2.imread(pathImage)\n",
    "    img = cv2.resize(img, (widthImg, heightImg)) # RESIZE IMAGE\n",
    "    imgBlank = np.zeros((heightImg,widthImg, 3), np.uint8) # CREATE A BLANK IMAGE FOR TESTING DEBUGING IF REQUIRED\n",
    "    imgGray = cv2.cvtColor(img, cv2.COLOR_BGR2GRAY) # CONVERT IMAGE TO GRAY SCALE\n",
    "    imgBlur = cv2.GaussianBlur(imgGray, (5, 5), 1) # ADD GAUSSIAN BLUR\n",
    "    #thres=utlis.valTrackbars() # GET TRACK BAR VALUES FOR THRESHOLDS\n",
    "    imgThreshold = cv2.adaptiveThreshold(imgBlur,255,cv2.ADAPTIVE_THRESH_GAUSSIAN_C,\\\n",
    "                cv2.THRESH_BINARY,11,2) # APPLY CANNY BLUR\n",
    "    kernel = np.ones((5, 5))\n",
    "    imgDial = cv2.dilate(imgThreshold, kernel, iterations=2) # APPLY DILATION\n",
    "    imgThreshold = cv2.erode(imgDial, kernel, iterations=1)  # APPLY EROSION\n",
    "\n",
    "        ## FIND ALL COUNTOURS\n",
    "    imgContours = img.copy() # COPY IMAGE FOR DISPLAY PURPOSES\n",
    "    imgBigContour = img.copy() # COPY IMAGE FOR DISPLAY PURPOSES\n",
    "    contours, hierarchy = cv2.findContours(imgThreshold, cv2.RETR_EXTERNAL, cv2.CHAIN_APPROX_SIMPLE) # FIND ALL CONTOURS\n",
    "    cv2.drawContours(imgContours, contours, -1, (0, 255, 0), 10) # DRAW ALL DETECTED CONTOURS\n",
    "\n",
    "\n",
    "        # FIND THE BIGGEST COUNTOUR\n",
    "    biggest, maxArea = utlis.biggestContour(contours) # FIND THE BIGGEST CONTOUR\n",
    "    if biggest.size != 0:\n",
    "            biggest=utlis.reorder(biggest)\n",
    "            cv2.drawContours(imgBigContour, biggest, -1, (0, 255, 0), 20) # DRAW THE BIGGEST CONTOUR\n",
    "            imgBigContour = utlis.drawRectangle(imgBigContour,biggest,2)\n",
    "            pts1 = np.float32(biggest) # PREPARE POINTS FOR WARP\n",
    "            pts2 = np.float32([[0, 0],[widthImg, 0], [0, heightImg],[widthImg, heightImg]]) # PREPARE POINTS FOR WARP\n",
    "            matrix = cv2.getPerspectiveTransform(pts1, pts2)\n",
    "            imgWarpColored = cv2.warpPerspective(img, matrix, (widthImg, heightImg))\n",
    "\n",
    "            #REMOVE 20 PIXELS FORM EACH SIDE\n",
    "            imgWarpColored=imgWarpColored[20:imgWarpColored.shape[0] - 20, 20:imgWarpColored.shape[1] - 20]\n",
    "            imgWarpColored = cv2.resize(imgWarpColored,(widthImg,heightImg))\n",
    "           \n",
    "    count=1\n",
    "    cv2.imwrite(\"Scanned/myImage\"+str(count)+\".jpg\",imgWarpColored)\n",
    "    item_name=(\"Scanned/myImage\"+str(count)+\".jpg\")\n",
    "    return item_name\n",
    "\n"
   ]
  },
  {
   "cell_type": "code",
   "execution_count": 49,
   "id": "502e5ffc-4c15-43e4-ba17-a560fb762ef6",
   "metadata": {},
   "outputs": [
    {
     "name": "stdout",
     "output_type": "stream",
     "text": [
      "Trattoria Sort\n",
      "\n",
      "328 Washingtonstreet\n",
      "Hoboken, Nd\n",
      "201-533-1801\n",
      "\n",
      "TABLE # 4\n",
      "CHECK# 27273\n",
      "\n",
      "ae ae 9:93:48 PM\n",
      "e\n",
      "\n",
      "SERVER: Gaston\n",
      "STATION: 01\n",
      "\n",
      "Item Count: 4\n",
      "\n",
      "1 STUFFED nee\n",
      "\n",
      "1 BK FETT AL PORCINI *\n",
      "1 COSTOLETTE/ALLA/PAP#\n",
      "1 BROCCOLI RABE W/ GAM\n",
      "\n",
      "| ESPRESSO\n",
      "1 DBLD ESPRESSO\n",
      "\n",
      "Sot\n",
      "GRAND TOT\n",
      "\n",
      "Opened: 7/1/2018 5:53:48 PM\n",
      "\n",
      "$117.7\n",
      "8,24\n",
      "\n",
      "\"\n",
      "‘10.\n",
      "\f",
      "\n"
     ]
    }
   ],
   "source": [
    "item=clean_image(r\"images/large-receipt-image-dataset-SRD/1084-receipt.jpg\")\n",
    "import functions \n",
    "print (functions.extract_text(item))"
   ]
  },
  {
   "cell_type": "code",
   "execution_count": 1,
   "id": "458ff663-2e88-4bd6-a22a-66a8e904df8c",
   "metadata": {},
   "outputs": [],
   "source": [
    "import functions "
   ]
  },
  {
   "cell_type": "code",
   "execution_count": null,
   "id": "a3c8d90d-7843-462d-b07e-b53ecc6d2bfc",
   "metadata": {},
   "outputs": [],
   "source": []
  },
  {
   "cell_type": "code",
   "execution_count": null,
   "id": "78f1abfb-02d5-4011-b1b4-2c541bb799e7",
   "metadata": {},
   "outputs": [],
   "source": []
  },
  {
   "cell_type": "code",
   "execution_count": null,
   "id": "97c9e353-d9a3-41e9-b83d-2c1acaf8238d",
   "metadata": {},
   "outputs": [],
   "source": []
  },
  {
   "cell_type": "code",
   "execution_count": 1,
   "id": "d20beaaa-ff7d-4cab-9d84-48c0d90a84ee",
   "metadata": {},
   "outputs": [],
   "source": [
    "import os \n",
    "ls=[]\n",
    "url=r\"images/large-receipt-image-dataset-SRD/\"\n",
    "for filename in os.listdir(url):\n",
    "    f = os.path.join(url, filename)\n",
    "   \n",
    "    ls.append(f)"
   ]
  },
  {
   "cell_type": "code",
   "execution_count": 2,
   "id": "9dbe502f-903b-438b-a638-465d7aebd8cb",
   "metadata": {},
   "outputs": [
    {
     "data": {
      "text/plain": [
       "'images/large-receipt-image-dataset-SRD/.ipynb_checkpoints'"
      ]
     },
     "execution_count": 2,
     "metadata": {},
     "output_type": "execute_result"
    }
   ],
   "source": [
    "ls.pop(0)\n"
   ]
  },
  {
   "cell_type": "code",
   "execution_count": 3,
   "id": "ea6af88d-fcde-422b-b771-c2e7d0021100",
   "metadata": {},
   "outputs": [
    {
     "data": {
      "text/html": [
       "<div>\n",
       "<style scoped>\n",
       "    .dataframe tbody tr th:only-of-type {\n",
       "        vertical-align: middle;\n",
       "    }\n",
       "\n",
       "    .dataframe tbody tr th {\n",
       "        vertical-align: top;\n",
       "    }\n",
       "\n",
       "    .dataframe thead th {\n",
       "        text-align: right;\n",
       "    }\n",
       "</style>\n",
       "<table border=\"1\" class=\"dataframe\">\n",
       "  <thead>\n",
       "    <tr style=\"text-align: right;\">\n",
       "      <th></th>\n",
       "      <th>Zipcode</th>\n",
       "      <th>Latitude</th>\n",
       "      <th>Longitude</th>\n",
       "      <th>Address</th>\n",
       "      <th>prices</th>\n",
       "      <th>time</th>\n",
       "    </tr>\n",
       "  </thead>\n",
       "  <tbody>\n",
       "    <tr>\n",
       "      <th>0</th>\n",
       "      <td>NaN</td>\n",
       "      <td>NaN</td>\n",
       "      <td>NaN</td>\n",
       "      <td>NaN</td>\n",
       "      <td>NaN</td>\n",
       "      <td>NaN</td>\n",
       "    </tr>\n",
       "  </tbody>\n",
       "</table>\n",
       "</div>"
      ],
      "text/plain": [
       "   Zipcode  Latitude  Longitude  Address  prices  time\n",
       "0      NaN       NaN        NaN      NaN     NaN   NaN"
      ]
     },
     "execution_count": 3,
     "metadata": {},
     "output_type": "execute_result"
    }
   ],
   "source": [
    "import pandas as pd \n",
    "import os \n",
    "import functions\n",
    "\n",
    "texts=[]\n",
    "dfl=[]\n",
    "\n",
    "for i in ls :\n",
    "    #text=functions.extract_from_image(i)\n",
    "    image=functions.clean_image(i)\n",
    "    text=functions.extract_text(image)\n",
    "    texts.append(text)\n",
    "    df=functions.extract_data(text)\n",
    "    dfl.append(df)\n",
    "df1=pd.concat(dfl)       \n",
    "df     \n",
    "    "
   ]
  },
  {
   "cell_type": "code",
   "execution_count": 28,
   "id": "9c22e486-2f1f-4d7a-8df1-4aeb0bc1f7fd",
   "metadata": {},
   "outputs": [
    {
     "name": "stdout",
     "output_type": "stream",
     "text": [
      "Mooustat Resta: arit\n",
      "\n",
      "AT D REPRINT 1\n",
      "2332 n #2406\n",
      "\n",
      "th.\n",
      "Ay be one, aa aa\n",
      "Na opt Ge\n",
      "view 6% vheee\n",
      "\n",
      "TOTE. : 37,37\n",
      "\n",
      "AHL\n",
      "\n",
      " \n",
      "\f",
      "\n"
     ]
    }
   ],
   "source": [
    "print(texts[22])\n",
    "df=pd.DataFrame()"
   ]
  },
  {
   "cell_type": "code",
   "execution_count": 31,
   "id": "d1815fa2-88a2-4d18-83cb-539fed386fa8",
   "metadata": {},
   "outputs": [
    {
     "data": {
      "text/html": [
       "<div>\n",
       "<style scoped>\n",
       "    .dataframe tbody tr th:only-of-type {\n",
       "        vertical-align: middle;\n",
       "    }\n",
       "\n",
       "    .dataframe tbody tr th {\n",
       "        vertical-align: top;\n",
       "    }\n",
       "\n",
       "    .dataframe thead th {\n",
       "        text-align: right;\n",
       "    }\n",
       "</style>\n",
       "<table border=\"1\" class=\"dataframe\">\n",
       "  <thead>\n",
       "    <tr style=\"text-align: right;\">\n",
       "      <th></th>\n",
       "      <th>Zipcode</th>\n",
       "      <th>Latitude</th>\n",
       "      <th>Longitude</th>\n",
       "      <th>Address</th>\n",
       "      <th>prices</th>\n",
       "      <th>time</th>\n",
       "    </tr>\n",
       "  </thead>\n",
       "  <tbody>\n",
       "    <tr>\n",
       "      <th>0</th>\n",
       "      <td>NaN</td>\n",
       "      <td>NaN</td>\n",
       "      <td>NaN</td>\n",
       "      <td>NaN</td>\n",
       "      <td>NaN</td>\n",
       "      <td>NaN</td>\n",
       "    </tr>\n",
       "    <tr>\n",
       "      <th>0</th>\n",
       "      <td>NaN</td>\n",
       "      <td>NaN</td>\n",
       "      <td>NaN</td>\n",
       "      <td>NaN</td>\n",
       "      <td>NaN</td>\n",
       "      <td>NaN</td>\n",
       "    </tr>\n",
       "    <tr>\n",
       "      <th>0</th>\n",
       "      <td>NaN</td>\n",
       "      <td>NaN</td>\n",
       "      <td>NaN</td>\n",
       "      <td>NaN</td>\n",
       "      <td>NaN</td>\n",
       "      <td>NaN</td>\n",
       "    </tr>\n",
       "    <tr>\n",
       "      <th>0</th>\n",
       "      <td>NaN</td>\n",
       "      <td>NaN</td>\n",
       "      <td>NaN</td>\n",
       "      <td>NaN</td>\n",
       "      <td>NaN</td>\n",
       "      <td>NaN</td>\n",
       "    </tr>\n",
       "    <tr>\n",
       "      <th>0</th>\n",
       "      <td>90280</td>\n",
       "      <td>-118.2013</td>\n",
       "      <td>33.9462</td>\n",
       "      <td>10 GARFIELD AVE.</td>\n",
       "      <td>$9</td>\n",
       "      <td>11:19AM</td>\n",
       "    </tr>\n",
       "    <tr>\n",
       "      <th>...</th>\n",
       "      <td>...</td>\n",
       "      <td>...</td>\n",
       "      <td>...</td>\n",
       "      <td>...</td>\n",
       "      <td>...</td>\n",
       "      <td>...</td>\n",
       "    </tr>\n",
       "    <tr>\n",
       "      <th>0</th>\n",
       "      <td>NaN</td>\n",
       "      <td>NaN</td>\n",
       "      <td>NaN</td>\n",
       "      <td>NaN</td>\n",
       "      <td>$5</td>\n",
       "      <td>NaN</td>\n",
       "    </tr>\n",
       "    <tr>\n",
       "      <th>0</th>\n",
       "      <td>NaN</td>\n",
       "      <td>NaN</td>\n",
       "      <td>NaN</td>\n",
       "      <td>NaN</td>\n",
       "      <td>NaN</td>\n",
       "      <td>6:06</td>\n",
       "    </tr>\n",
       "    <tr>\n",
       "      <th>0</th>\n",
       "      <td>454003</td>\n",
       "      <td>NaN</td>\n",
       "      <td>NaN</td>\n",
       "      <td>NaN</td>\n",
       "      <td>NaN</td>\n",
       "      <td>12:41</td>\n",
       "    </tr>\n",
       "    <tr>\n",
       "      <th>0</th>\n",
       "      <td>NaN</td>\n",
       "      <td>NaN</td>\n",
       "      <td>NaN</td>\n",
       "      <td>NaN</td>\n",
       "      <td>NaN</td>\n",
       "      <td>NaN</td>\n",
       "    </tr>\n",
       "    <tr>\n",
       "      <th>0</th>\n",
       "      <td>NaN</td>\n",
       "      <td>NaN</td>\n",
       "      <td>NaN</td>\n",
       "      <td>NaN</td>\n",
       "      <td>NaN</td>\n",
       "      <td>NaN</td>\n",
       "    </tr>\n",
       "  </tbody>\n",
       "</table>\n",
       "<p>200 rows × 6 columns</p>\n",
       "</div>"
      ],
      "text/plain": [
       "   Zipcode  Latitude  Longitude           Address prices     time\n",
       "0      NaN       NaN        NaN               NaN    NaN      NaN\n",
       "0      NaN       NaN        NaN               NaN    NaN      NaN\n",
       "0      NaN       NaN        NaN               NaN    NaN      NaN\n",
       "0      NaN       NaN        NaN               NaN    NaN      NaN\n",
       "0    90280 -118.2013    33.9462  10 GARFIELD AVE.     $9  11:19AM\n",
       "..     ...       ...        ...               ...    ...      ...\n",
       "0      NaN       NaN        NaN               NaN     $5      NaN\n",
       "0      NaN       NaN        NaN               NaN    NaN     6:06\n",
       "0   454003       NaN        NaN               NaN    NaN    12:41\n",
       "0      NaN       NaN        NaN               NaN    NaN      NaN\n",
       "0      NaN       NaN        NaN               NaN    NaN      NaN\n",
       "\n",
       "[200 rows x 6 columns]"
      ]
     },
     "execution_count": 31,
     "metadata": {},
     "output_type": "execute_result"
    }
   ],
   "source": [
    "df1"
   ]
  },
  {
   "cell_type": "code",
   "execution_count": 32,
   "id": "b74e8ad9-6cbb-41eb-81f7-4ea3dc213142",
   "metadata": {},
   "outputs": [
    {
     "name": "stdout",
     "output_type": "stream",
     "text": [
      "The VALUES of ZipcodeFalse    105\n",
      "True      95\n",
      "Name: Zipcode, dtype: int64\n",
      "The VALUES of LatitudeTrue     139\n",
      "False     61\n",
      "Name: Latitude, dtype: int64\n",
      "The VALUES of LongitudeTrue     139\n",
      "False     61\n",
      "Name: Longitude, dtype: int64\n",
      "The VALUES of AddressTrue     152\n",
      "False     48\n",
      "Name: Address, dtype: int64\n",
      "The VALUES of pricesTrue     137\n",
      "False     63\n",
      "Name: prices, dtype: int64\n",
      "The VALUES of timeTrue     126\n",
      "False     74\n",
      "Name: time, dtype: int64\n"
     ]
    }
   ],
   "source": [
    "for i in df.columns:\n",
    "    print(\"The VALUES of \"+ i + str(df1[i].isna().value_counts()))"
   ]
  },
  {
   "cell_type": "code",
   "execution_count": 9,
   "id": "a804ec71-957d-41bf-b93c-46361b79bfab",
   "metadata": {},
   "outputs": [],
   "source": [
    "df.to_csv(\"data\\imporved_data_structured.csv\")"
   ]
  },
  {
   "cell_type": "code",
   "execution_count": 49,
   "id": "22766bef-bc02-4031-9b4f-c2136d779612",
   "metadata": {},
   "outputs": [],
   "source": [
    "import matplotlib.pyplot as plt "
   ]
  },
  {
   "cell_type": "code",
   "execution_count": 55,
   "id": "32d611cd-55e1-4829-8b09-9591e8ee7bf5",
   "metadata": {},
   "outputs": [
    {
     "data": {
      "text/plain": [
       "Text(0.5, 1.0, ' isna on dataset with otsu thresholding')"
      ]
     },
     "execution_count": 55,
     "metadata": {},
     "output_type": "execute_result"
    },
    {
     "data": {
      "image/png": "[encoded data removed]",
      "text/plain": [
       "<Figure size 432x288 with 1 Axes>"
      ]
     },
     "metadata": {
      "needs_background": "light"
     },
     "output_type": "display_data"
    }
   ],
   "source": [
    "df.isna().sum().plot(kind = 'bar')\n",
    "plt.title(\" isna on dataset with otsu thresholding\")"
   ]
  },
  {
   "cell_type": "code",
   "execution_count": 37,
   "id": "c7259087-989a-46de-8263-1575919dee38",
   "metadata": {},
   "outputs": [
    {
     "name": "stdout",
     "output_type": "stream",
     "text": [
      "Tha\n",
      "\n",
      "GUSTO\n",
      "\n",
      "Thai Gusto Restaurant\n",
      "2011 Hewitt Ave\n",
      "Everett WA 98201\n",
      "Tei. 425-252-3525 Fax. 425-252-3525\n",
      "\n",
      "Helcome to Thai Gusto\n",
      "\n",
      "  \n",
      "  \n",
      " \n",
      "\n",
      "Table 4\n",
      "Date: 6/16/2017 12:36 PM\n",
      "Server: PRACH (TY\n",
      "Chang (26$3.50) $7.00\n",
      "$19.24\n",
      "\n",
      "#114 Garlic Delight\n",
      "[Chicken] (5e¥##81 [Smal] Browr: Rice!\n",
      "$10\n",
      "\n",
      "4128 Red Curry\n",
      "[Chicken] [5##+#*] [Sma'i Brown Rice]\n",
      "\n",
      "Tota] 4 item(s)\n",
      "\n",
      "Sales Tax\n",
      "\n",
      "Grand Total $20.15\n",
      "\n",
      "Tip Guide\n",
      "r6y=64.52, 184=85.43, 2048.03\n",
      "\n",
      "Thank you very much.\n",
      "Come back aga)”.\n",
      "\n",
      "~ GUEST crete -\n",
      "This is not a “ere ce.\n",
      "\n",
      " \n",
      "\f",
      "\n"
     ]
    }
   ],
   "source": [
    "print(texts[23])"
   ]
  },
  {
   "cell_type": "code",
   "execution_count": 8,
   "id": "83ab492a-20f5-4b0f-b47b-360edd262aaa",
   "metadata": {},
   "outputs": [
    {
     "name": "stdout",
     "output_type": "stream",
     "text": [
      "Done\n"
     ]
    }
   ],
   "source": [
    "with open(r'data/newtext2oem3psm6.txt', 'w',encoding=\"utf-8\") as fp:\n",
    "    for item in texts:\n",
    "        # write each item on a new line\n",
    "        fp.write(\"%s\\n\" % item)\n",
    "    print('Done')"
   ]
  },
  {
   "cell_type": "code",
   "execution_count": 34,
   "id": "777c27e7-0a30-4fb4-a2ba-f8f76645777e",
   "metadata": {},
   "outputs": [
    {
     "ename": "NameError",
     "evalue": "name 'plt' is not defined",
     "output_type": "error",
     "traceback": [
      "\u001b[1;31m---------------------------------------------------------------------------\u001b[0m",
      "\u001b[1;31mNameError\u001b[0m                                 Traceback (most recent call last)",
      "Input \u001b[1;32mIn [34]\u001b[0m, in \u001b[0;36m<cell line: 2>\u001b[1;34m()\u001b[0m\n\u001b[0;32m      1\u001b[0m df1\u001b[38;5;241m.\u001b[39misna()\u001b[38;5;241m.\u001b[39msum()\u001b[38;5;241m.\u001b[39mplot(kind \u001b[38;5;241m=\u001b[39m \u001b[38;5;124m'\u001b[39m\u001b[38;5;124mbar\u001b[39m\u001b[38;5;124m'\u001b[39m)\n\u001b[1;32m----> 2\u001b[0m \u001b[43mplt\u001b[49m\u001b[38;5;241m.\u001b[39mtitle(\u001b[38;5;124m\"\u001b[39m\u001b[38;5;124m isna on dataset with otsu thresholding and noise clearance \u001b[39m\u001b[38;5;124m\"\u001b[39m)\n",
      "\u001b[1;31mNameError\u001b[0m: name 'plt' is not defined"
     ]
    },
    {
     "data": {
      "image/png": "[encoded data removed]",
      "text/plain": [
       "<Figure size 432x288 with 1 Axes>"
      ]
     },
     "metadata": {
      "needs_background": "light"
     },
     "output_type": "display_data"
    }
   ],
   "source": [
    "df1.isna().sum().plot(kind = 'bar')\n",
    "plt.title(\" isna on dataset with otsu thresholding and noise clearance \")"
   ]
  },
  {
   "cell_type": "code",
   "execution_count": 4,
   "id": "33702a58-334a-4c35-b575-975ba44eabf2",
   "metadata": {},
   "outputs": [
    {
     "data": {
      "text/html": [
       "<div>\n",
       "<style scoped>\n",
       "    .dataframe tbody tr th:only-of-type {\n",
       "        vertical-align: middle;\n",
       "    }\n",
       "\n",
       "    .dataframe tbody tr th {\n",
       "        vertical-align: top;\n",
       "    }\n",
       "\n",
       "    .dataframe thead th {\n",
       "        text-align: right;\n",
       "    }\n",
       "</style>\n",
       "<table border=\"1\" class=\"dataframe\">\n",
       "  <thead>\n",
       "    <tr style=\"text-align: right;\">\n",
       "      <th></th>\n",
       "      <th>Zipcode</th>\n",
       "      <th>Latitude</th>\n",
       "      <th>Longitude</th>\n",
       "      <th>Address</th>\n",
       "      <th>prices</th>\n",
       "      <th>time</th>\n",
       "    </tr>\n",
       "  </thead>\n",
       "  <tbody>\n",
       "    <tr>\n",
       "      <th>0</th>\n",
       "      <td>90804</td>\n",
       "      <td>-118.1357</td>\n",
       "      <td>33.7857</td>\n",
       "      <td>5305 E PACIFIC COAST HWY</td>\n",
       "      <td>NaN</td>\n",
       "      <td>12:53</td>\n",
       "    </tr>\n",
       "    <tr>\n",
       "      <th>0</th>\n",
       "      <td>NaN</td>\n",
       "      <td>NaN</td>\n",
       "      <td>NaN</td>\n",
       "      <td>NaN</td>\n",
       "      <td>NaN</td>\n",
       "      <td>NaN</td>\n",
       "    </tr>\n",
       "    <tr>\n",
       "      <th>0</th>\n",
       "      <td>NaN</td>\n",
       "      <td>NaN</td>\n",
       "      <td>NaN</td>\n",
       "      <td>NaN</td>\n",
       "      <td>NaN</td>\n",
       "      <td>NaN</td>\n",
       "    </tr>\n",
       "    <tr>\n",
       "      <th>0</th>\n",
       "      <td>NaN</td>\n",
       "      <td>NaN</td>\n",
       "      <td>NaN</td>\n",
       "      <td>NaN</td>\n",
       "      <td>NaN</td>\n",
       "      <td>NaN</td>\n",
       "    </tr>\n",
       "    <tr>\n",
       "      <th>0</th>\n",
       "      <td>90280</td>\n",
       "      <td>-118.2013</td>\n",
       "      <td>33.9462</td>\n",
       "      <td>10 GARFIELD AVE.</td>\n",
       "      <td>$9</td>\n",
       "      <td>11:19 AM</td>\n",
       "    </tr>\n",
       "    <tr>\n",
       "      <th>...</th>\n",
       "      <td>...</td>\n",
       "      <td>...</td>\n",
       "      <td>...</td>\n",
       "      <td>...</td>\n",
       "      <td>...</td>\n",
       "      <td>...</td>\n",
       "    </tr>\n",
       "    <tr>\n",
       "      <th>0</th>\n",
       "      <td>30004</td>\n",
       "      <td>-84.3020</td>\n",
       "      <td>34.1124</td>\n",
       "      <td>1805 Parker RD</td>\n",
       "      <td>NaN</td>\n",
       "      <td>NaN</td>\n",
       "    </tr>\n",
       "    <tr>\n",
       "      <th>0</th>\n",
       "      <td>71128</td>\n",
       "      <td>NaN</td>\n",
       "      <td>NaN</td>\n",
       "      <td>NaN</td>\n",
       "      <td>NaN</td>\n",
       "      <td>NaN</td>\n",
       "    </tr>\n",
       "    <tr>\n",
       "      <th>0</th>\n",
       "      <td>902004306</td>\n",
       "      <td>NaN</td>\n",
       "      <td>NaN</td>\n",
       "      <td>NaN</td>\n",
       "      <td>$2</td>\n",
       "      <td>12:41</td>\n",
       "    </tr>\n",
       "    <tr>\n",
       "      <th>0</th>\n",
       "      <td>NaN</td>\n",
       "      <td>NaN</td>\n",
       "      <td>NaN</td>\n",
       "      <td>NaN</td>\n",
       "      <td>NaN</td>\n",
       "      <td>NaN</td>\n",
       "    </tr>\n",
       "    <tr>\n",
       "      <th>0</th>\n",
       "      <td>NaN</td>\n",
       "      <td>NaN</td>\n",
       "      <td>NaN</td>\n",
       "      <td>0085 West Suneat Blvd\\nlest</td>\n",
       "      <td>NaN</td>\n",
       "      <td>3am</td>\n",
       "    </tr>\n",
       "  </tbody>\n",
       "</table>\n",
       "<p>200 rows × 6 columns</p>\n",
       "</div>"
      ],
      "text/plain": [
       "      Zipcode  Latitude  Longitude                      Address prices  \\\n",
       "0       90804 -118.1357    33.7857     5305 E PACIFIC COAST HWY    NaN   \n",
       "0         NaN       NaN        NaN                          NaN    NaN   \n",
       "0         NaN       NaN        NaN                          NaN    NaN   \n",
       "0         NaN       NaN        NaN                          NaN    NaN   \n",
       "0       90280 -118.2013    33.9462             10 GARFIELD AVE.     $9   \n",
       "..        ...       ...        ...                          ...    ...   \n",
       "0       30004  -84.3020    34.1124               1805 Parker RD    NaN   \n",
       "0       71128       NaN        NaN                          NaN    NaN   \n",
       "0   902004306       NaN        NaN                          NaN     $2   \n",
       "0         NaN       NaN        NaN                          NaN    NaN   \n",
       "0         NaN       NaN        NaN  0085 West Suneat Blvd\\nlest    NaN   \n",
       "\n",
       "        time  \n",
       "0      12:53  \n",
       "0        NaN  \n",
       "0        NaN  \n",
       "0        NaN  \n",
       "0   11:19 AM  \n",
       "..       ...  \n",
       "0        NaN  \n",
       "0        NaN  \n",
       "0      12:41  \n",
       "0        NaN  \n",
       "0        3am  \n",
       "\n",
       "[200 rows x 6 columns]"
      ]
     },
     "execution_count": 4,
     "metadata": {},
     "output_type": "execute_result"
    }
   ],
   "source": [
    "import pandas as pd \n",
    "import os \n",
    "import functions\n",
    "\n",
    "texts=[]\n",
    "dfl=[]\n",
    "\n",
    "for i in ls :\n",
    "    #text=functions.extract_from_image(i)\n",
    "    image=functions.clean_image(i)\n",
    "    text=functions.extract_text(image)\n",
    "    texts.append(text)\n",
    "    df=functions.extract_data(text)\n",
    "    dfl.append(df)\n",
    "df2=pd.concat(dfl)       \n",
    "df2  "
   ]
  },
  {
   "cell_type": "code",
   "execution_count": 5,
   "id": "2ca15843-ba05-4e32-a2d7-b0ae2b34e304",
   "metadata": {},
   "outputs": [
    {
     "ename": "NameError",
     "evalue": "name 'plt' is not defined",
     "output_type": "error",
     "traceback": [
      "\u001b[1;31m---------------------------------------------------------------------------\u001b[0m",
      "\u001b[1;31mNameError\u001b[0m                                 Traceback (most recent call last)",
      "Input \u001b[1;32mIn [5]\u001b[0m, in \u001b[0;36m<cell line: 2>\u001b[1;34m()\u001b[0m\n\u001b[0;32m      1\u001b[0m df2\u001b[38;5;241m.\u001b[39misna()\u001b[38;5;241m.\u001b[39msum()\u001b[38;5;241m.\u001b[39mplot(kind \u001b[38;5;241m=\u001b[39m \u001b[38;5;124m'\u001b[39m\u001b[38;5;124mbar\u001b[39m\u001b[38;5;124m'\u001b[39m)\n\u001b[1;32m----> 2\u001b[0m \u001b[43mplt\u001b[49m\u001b[38;5;241m.\u001b[39mtitle(\u001b[38;5;124m\"\u001b[39m\u001b[38;5;124m isna on dataset as is \u001b[39m\u001b[38;5;124m\"\u001b[39m)\n",
      "\u001b[1;31mNameError\u001b[0m: name 'plt' is not defined"
     ]
    },
    {
     "data": {
      "image/png": "[encoded data removed]",
      "text/plain": [
       "<Figure size 432x288 with 1 Axes>"
      ]
     },
     "metadata": {
      "needs_background": "light"
     },
     "output_type": "display_data"
    }
   ],
   "source": [
    "df2.isna().sum().plot(kind = 'bar')\n",
    "plt.title(\" isna on dataset as is \")"
   ]
  },
  {
   "cell_type": "code",
   "execution_count": 6,
   "id": "dd26156e-4146-43cc-8184-bd62943930a9",
   "metadata": {},
   "outputs": [
    {
     "name": "stdout",
     "output_type": "stream",
     "text": [
      "The VALUES of ZipcodeFalse    141\n",
      "True      59\n",
      "Name: Zipcode, dtype: int64\n",
      "The VALUES of LatitudeTrue     112\n",
      "False     88\n",
      "Name: Latitude, dtype: int64\n",
      "The VALUES of LongitudeTrue     112\n",
      "False     88\n",
      "Name: Longitude, dtype: int64\n",
      "The VALUES of AddressTrue     131\n",
      "False     69\n",
      "Name: Address, dtype: int64\n",
      "The VALUES of pricesTrue     127\n",
      "False     73\n",
      "Name: prices, dtype: int64\n",
      "The VALUES of timeFalse    100\n",
      "True     100\n",
      "Name: time, dtype: int64\n"
     ]
    }
   ],
   "source": [
    "for i in df2.columns:\n",
    "    print(\"The VALUES of \"+ i + str(df2[i].isna().value_counts()))"
   ]
  },
  {
   "cell_type": "code",
   "execution_count": 1,
   "id": "00f19b08-9770-4810-838d-ddbe31646d5b",
   "metadata": {},
   "outputs": [],
   "source": [
    "import os \n",
    "ls=[]\n",
    "url=r\"images/large-receipt-image-dataset-SRD/\"\n",
    "for filename in os.listdir(url):\n",
    "    f = os.path.join(url, filename)\n",
    "   \n",
    "    ls.append(f)\n"
   ]
  },
  {
   "cell_type": "code",
   "execution_count": 2,
   "id": "ab850886-3398-4bf0-aa8e-958e389a58ba",
   "metadata": {},
   "outputs": [
    {
     "data": {
      "text/plain": [
       "'images/large-receipt-image-dataset-SRD/.ipynb_checkpoints'"
      ]
     },
     "execution_count": 2,
     "metadata": {},
     "output_type": "execute_result"
    }
   ],
   "source": [
    "ls.pop(0)"
   ]
  },
  {
   "cell_type": "code",
   "execution_count": 3,
   "id": "f53b06eb-ce36-48bd-b5c6-58dabd3ce54d",
   "metadata": {},
   "outputs": [
    {
     "data": {
      "text/html": [
       "<div>\n",
       "<style scoped>\n",
       "    .dataframe tbody tr th:only-of-type {\n",
       "        vertical-align: middle;\n",
       "    }\n",
       "\n",
       "    .dataframe tbody tr th {\n",
       "        vertical-align: top;\n",
       "    }\n",
       "\n",
       "    .dataframe thead th {\n",
       "        text-align: right;\n",
       "    }\n",
       "</style>\n",
       "<table border=\"1\" class=\"dataframe\">\n",
       "  <thead>\n",
       "    <tr style=\"text-align: right;\">\n",
       "      <th></th>\n",
       "      <th>Zipcode</th>\n",
       "      <th>Latitude</th>\n",
       "      <th>Longitude</th>\n",
       "      <th>Address</th>\n",
       "      <th>prices</th>\n",
       "      <th>time</th>\n",
       "    </tr>\n",
       "  </thead>\n",
       "  <tbody>\n",
       "    <tr>\n",
       "      <th>0</th>\n",
       "      <td>90804</td>\n",
       "      <td>-118.1357</td>\n",
       "      <td>33.7857</td>\n",
       "      <td>5305 E PACIFIC COAST HWY</td>\n",
       "      <td>NaN</td>\n",
       "      <td>12:53</td>\n",
       "    </tr>\n",
       "    <tr>\n",
       "      <th>0</th>\n",
       "      <td>NaN</td>\n",
       "      <td>NaN</td>\n",
       "      <td>NaN</td>\n",
       "      <td>NaN</td>\n",
       "      <td>NaN</td>\n",
       "      <td>NaN</td>\n",
       "    </tr>\n",
       "    <tr>\n",
       "      <th>0</th>\n",
       "      <td>378759</td>\n",
       "      <td>NaN</td>\n",
       "      <td>NaN</td>\n",
       "      <td>NaN</td>\n",
       "      <td>NaN</td>\n",
       "      <td>NaN</td>\n",
       "    </tr>\n",
       "    <tr>\n",
       "      <th>0</th>\n",
       "      <td>NaN</td>\n",
       "      <td>NaN</td>\n",
       "      <td>NaN</td>\n",
       "      <td>NaN</td>\n",
       "      <td>NaN</td>\n",
       "      <td>10:13</td>\n",
       "    </tr>\n",
       "    <tr>\n",
       "      <th>0</th>\n",
       "      <td>90280</td>\n",
       "      <td>-118.2013</td>\n",
       "      <td>33.9462</td>\n",
       "      <td>NaN</td>\n",
       "      <td>$9</td>\n",
       "      <td>11:19 AM</td>\n",
       "    </tr>\n",
       "    <tr>\n",
       "      <th>...</th>\n",
       "      <td>...</td>\n",
       "      <td>...</td>\n",
       "      <td>...</td>\n",
       "      <td>...</td>\n",
       "      <td>...</td>\n",
       "      <td>...</td>\n",
       "    </tr>\n",
       "    <tr>\n",
       "      <th>0</th>\n",
       "      <td>NaN</td>\n",
       "      <td>NaN</td>\n",
       "      <td>NaN</td>\n",
       "      <td>NaN</td>\n",
       "      <td>NaN</td>\n",
       "      <td>NaN</td>\n",
       "    </tr>\n",
       "    <tr>\n",
       "      <th>0</th>\n",
       "      <td>71128</td>\n",
       "      <td>NaN</td>\n",
       "      <td>NaN</td>\n",
       "      <td>NaN</td>\n",
       "      <td>$18</td>\n",
       "      <td>6:06</td>\n",
       "    </tr>\n",
       "    <tr>\n",
       "      <th>0</th>\n",
       "      <td>902004306</td>\n",
       "      <td>NaN</td>\n",
       "      <td>NaN</td>\n",
       "      <td>NaN</td>\n",
       "      <td>NaN</td>\n",
       "      <td>12:41</td>\n",
       "    </tr>\n",
       "    <tr>\n",
       "      <th>0</th>\n",
       "      <td>33140</td>\n",
       "      <td>-80.1337</td>\n",
       "      <td>25.8198</td>\n",
       "      <td>1959 GST</td>\n",
       "      <td>$31.24</td>\n",
       "      <td>NaN</td>\n",
       "    </tr>\n",
       "    <tr>\n",
       "      <th>0</th>\n",
       "      <td>NaN</td>\n",
       "      <td>NaN</td>\n",
       "      <td>NaN</td>\n",
       "      <td>955 West Saruet Blvd\\nWest</td>\n",
       "      <td>NaN</td>\n",
       "      <td>NaN</td>\n",
       "    </tr>\n",
       "  </tbody>\n",
       "</table>\n",
       "<p>200 rows × 6 columns</p>\n",
       "</div>"
      ],
      "text/plain": [
       "      Zipcode  Latitude  Longitude                     Address  prices  \\\n",
       "0       90804 -118.1357    33.7857    5305 E PACIFIC COAST HWY     NaN   \n",
       "0         NaN       NaN        NaN                         NaN     NaN   \n",
       "0      378759       NaN        NaN                         NaN     NaN   \n",
       "0         NaN       NaN        NaN                         NaN     NaN   \n",
       "0       90280 -118.2013    33.9462                         NaN      $9   \n",
       "..        ...       ...        ...                         ...     ...   \n",
       "0         NaN       NaN        NaN                         NaN     NaN   \n",
       "0       71128       NaN        NaN                         NaN     $18   \n",
       "0   902004306       NaN        NaN                         NaN     NaN   \n",
       "0       33140  -80.1337    25.8198                    1959 GST  $31.24   \n",
       "0         NaN       NaN        NaN  955 West Saruet Blvd\\nWest     NaN   \n",
       "\n",
       "        time  \n",
       "0      12:53  \n",
       "0        NaN  \n",
       "0        NaN  \n",
       "0      10:13  \n",
       "0   11:19 AM  \n",
       "..       ...  \n",
       "0        NaN  \n",
       "0       6:06  \n",
       "0      12:41  \n",
       "0        NaN  \n",
       "0        NaN  \n",
       "\n",
       "[200 rows x 6 columns]"
      ]
     },
     "execution_count": 3,
     "metadata": {},
     "output_type": "execute_result"
    }
   ],
   "source": [
    "\n",
    "import pandas as pd \n",
    "import os \n",
    "import functions\n",
    "\n",
    "texts=[]\n",
    "dfl=[]\n",
    "\n",
    "for i in ls :\n",
    "    #text=functions.extract_from_image(i)\n",
    "    image=functions.clean_image(i)\n",
    "    text=functions.extract_text(image)\n",
    "    texts.append(text)\n",
    "    df=functions.extract_data(text)\n",
    "    dfl.append(df)\n",
    "dfm=pd.concat(dfl)       \n",
    "dfm     \n",
    "    "
   ]
  },
  {
   "cell_type": "code",
   "execution_count": 4,
   "id": "45467f7f-7819-4e96-b46b-49c17a0e39ed",
   "metadata": {},
   "outputs": [
    {
     "name": "stdout",
     "output_type": "stream",
     "text": [
      "The VALUES of ZipcodeFalse    146\n",
      "True      54\n",
      "Name: Zipcode, dtype: int64\n",
      "The VALUES of LatitudeTrue     108\n",
      "False     92\n",
      "Name: Latitude, dtype: int64\n",
      "The VALUES of LongitudeTrue     108\n",
      "False     92\n",
      "Name: Longitude, dtype: int64\n",
      "The VALUES of AddressTrue     130\n",
      "False     70\n",
      "Name: Address, dtype: int64\n",
      "The VALUES of pricesTrue     104\n",
      "False     96\n",
      "Name: prices, dtype: int64\n",
      "The VALUES of timeFalse    112\n",
      "True      88\n",
      "Name: time, dtype: int64\n"
     ]
    }
   ],
   "source": [
    "for i in dfm.columns:\n",
    "    print(\"The VALUES of \"+ i + str(dfm[i].isna().value_counts()))"
   ]
  },
  {
   "cell_type": "code",
   "execution_count": 4,
   "id": "1a17115a-be47-4766-bb55-b4d4babf2a19",
   "metadata": {},
   "outputs": [
    {
     "ename": "SyntaxError",
     "evalue": "invalid syntax (1588209627.py, line 1)",
     "output_type": "error",
     "traceback": [
      "\u001b[1;36m  Input \u001b[1;32mIn [4]\u001b[1;36m\u001b[0m\n\u001b[1;33m    i= import run\u001b[0m\n\u001b[1;37m       ^\u001b[0m\n\u001b[1;31mSyntaxError\u001b[0m\u001b[1;31m:\u001b[0m invalid syntax\n"
     ]
    }
   ],
   "source": [
    "import run"
   ]
  },
  {
   "cell_type": "code",
   "execution_count": 3,
   "id": "a45f25d6-3074-4e55-801d-d152f00a0361",
   "metadata": {},
   "outputs": [
    {
     "ename": "NameError",
     "evalue": "name 'df' is not defined",
     "output_type": "error",
     "traceback": [
      "\u001b[1;31m---------------------------------------------------------------------------\u001b[0m",
      "\u001b[1;31mNameError\u001b[0m                                 Traceback (most recent call last)",
      "Input \u001b[1;32mIn [3]\u001b[0m, in \u001b[0;36m<cell line: 1>\u001b[1;34m()\u001b[0m\n\u001b[1;32m----> 1\u001b[0m \u001b[43mdf\u001b[49m\n",
      "\u001b[1;31mNameError\u001b[0m: name 'df' is not defined"
     ]
    }
   ],
   "source": []
  },
  {
   "cell_type": "code",
   "execution_count": null,
   "id": "9f0c331b-76d7-4631-90fb-d784fdcdc311",
   "metadata": {},
   "outputs": [],
   "source": []
  }
 ],
 "metadata": {
  "kernelspec": {
   "display_name": "Python 3 (ipykernel)",
   "language": "python",
   "name": "python3"
  },
  "language_info": {
   "codemirror_mode": {
    "name": "ipython",
    "version": 3
   },
   "file_extension": ".py",
   "mimetype": "text/x-python",
   "name": "python",
   "nbconvert_exporter": "python",
   "pygments_lexer": "ipython3",
   "version": "3.9.12"
  }
 },
 "nbformat": 4,
 "nbformat_minor": 5
}
