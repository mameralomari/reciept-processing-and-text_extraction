{
 "cells": [
  {
   "cell_type": "code",
   "execution_count": 1,
   "id": "c4e6efa8-e9df-4f32-8e3b-03712c469957",
   "metadata": {
    "tags": []
   },
   "outputs": [
    {
     "name": "stdout",
     "output_type": "stream",
     "text": [
      "hello\n"
     ]
    }
   ],
   "source": [
    "import run "
   ]
  },
  {
   "cell_type": "code",
   "execution_count": 2,
   "id": "5cafc42b-91f8-4345-99e3-812167793f9d",
   "metadata": {},
   "outputs": [
    {
     "name": "stdin",
     "output_type": "stream",
     "text": [
      "would you like to use your camera? y/n  n\n",
      "please input image path or url  images/large-receipt-image-dataset-SRD/1007-receipt.jpg\n"
     ]
    },
    {
     "name": "stdout",
     "output_type": "stream",
     "text": [
      "  Zipcode  Latitude  Longitude          Address  prices     time Store Names\n",
      "0   28168  -81.4589    35.5188  8168 Hewitt Ave  $36.00  8:47 PM          wy wy\n",
      "Katana Sushi\n",
      "28168 Hewitt Ave\n",
      "Everett, WA 96201\n",
      "425-512-9361\n",
      "HW A i a AO\n",
      "Server: Michael C\n",
      "05/11/18 8:47 PM\n",
      "\n",
      "Check #93 Table D2\n",
      "Hamachi Collar $12.00\n",
      "Mega Poke Bowl $17.00\n",
      "Hamachi - Sashimi $12.00\n",
      "Maguro - Sashimi $11.00\n",
      "Salmon - Sashimi $10.00\n",
      "3 Sockeye Salmon - Sashimi\n",
      "\n",
      "$36.00\n",
      "Hamachi Japapeno $12.00\n",
      "Salmon Collar $10.00\n",
      "Escolar - Sashimi $11.00\n",
      "Subtotal $131.00\n",
      "Tax $12.71\n",
      "Total $143.71\n",
      "\n",
      "OKO KKK Say\n",
      "Thank You for your visit.\n",
      "\f",
      "\n"
     ]
    }
   ],
   "source": [
    "run.run()"
   ]
  },
  {
   "cell_type": "code",
   "execution_count": 2,
   "id": "44b76f5b-7aef-4e50-adf7-07278b14ce17",
   "metadata": {},
   "outputs": [
    {
     "name": "stdin",
     "output_type": "stream",
     "text": [
      "would you like to use your camera? y/n  n\n",
      "please input image path or url  images/large-receipt-image-dataset-SRD/1007-receipt.jpg\n"
     ]
    },
    {
     "name": "stdout",
     "output_type": "stream",
     "text": [
      "  Zipcode  Latitude  Longitude          Address  prices     time Store Names\n",
      "0   28168  -81.4589    35.5188  8168 Hewitt Ave  $36.00  8:47 PM          wy wy\n",
      "Katana Sushi\n",
      "28168 Hewitt Ave\n",
      "Everett, WA 96201\n",
      "425-512-9361\n",
      "HW A i a AO\n",
      "Server: Michael C\n",
      "05/11/18 8:47 PM\n",
      "\n",
      "Check #93 Table D2\n",
      "Hamachi Collar $12.00\n",
      "Mega Poke Bowl $17.00\n",
      "Hamachi - Sashimi $12.00\n",
      "Maguro - Sashimi $11.00\n",
      "Salmon - Sashimi $10.00\n",
      "3 Sockeye Salmon - Sashimi\n",
      "\n",
      "$36.00\n",
      "Hamachi Japapeno $12.00\n",
      "Salmon Collar $10.00\n",
      "Escolar - Sashimi $11.00\n",
      "Subtotal $131.00\n",
      "Tax $12.71\n",
      "Total $143.71\n",
      "\n",
      "OKO KKK Say\n",
      "Thank You for your visit.\n",
      "\f",
      "\n"
     ]
    }
   ],
   "source": [
    "df, text= run.run()\n"
   ]
  },
  {
   "cell_type": "code",
   "execution_count": 3,
   "id": "54319206-45ba-4902-8565-9ac319bc1c19",
   "metadata": {},
   "outputs": [
    {
     "data": {
      "text/html": [
       "<div>\n",
       "<style scoped>\n",
       "    .dataframe tbody tr th:only-of-type {\n",
       "        vertical-align: middle;\n",
       "    }\n",
       "\n",
       "    .dataframe tbody tr th {\n",
       "        vertical-align: top;\n",
       "    }\n",
       "\n",
       "    .dataframe thead th {\n",
       "        text-align: right;\n",
       "    }\n",
       "</style>\n",
       "<table border=\"1\" class=\"dataframe\">\n",
       "  <thead>\n",
       "    <tr style=\"text-align: right;\">\n",
       "      <th></th>\n",
       "      <th>Zipcode</th>\n",
       "      <th>Latitude</th>\n",
       "      <th>Longitude</th>\n",
       "      <th>Address</th>\n",
       "      <th>prices</th>\n",
       "      <th>time</th>\n",
       "      <th>Store Names</th>\n",
       "    </tr>\n",
       "  </thead>\n",
       "  <tbody>\n",
       "    <tr>\n",
       "      <th>0</th>\n",
       "      <td>28168</td>\n",
       "      <td>-81.4589</td>\n",
       "      <td>35.5188</td>\n",
       "      <td>8168 Hewitt Ave</td>\n",
       "      <td>$36.00</td>\n",
       "      <td>8:47 PM</td>\n",
       "      <td>wy</td>\n",
       "    </tr>\n",
       "  </tbody>\n",
       "</table>\n",
       "</div>"
      ],
      "text/plain": [
       "  Zipcode  Latitude  Longitude          Address  prices     time Store Names\n",
       "0   28168  -81.4589    35.5188  8168 Hewitt Ave  $36.00  8:47 PM          wy"
      ]
     },
     "execution_count": 3,
     "metadata": {},
     "output_type": "execute_result"
    }
   ],
   "source": [
    "df"
   ]
  },
  {
   "cell_type": "code",
   "execution_count": 4,
   "id": "21adbbef-7563-44fe-ac3f-9abbaf9ca6dc",
   "metadata": {},
   "outputs": [
    {
     "name": "stdout",
     "output_type": "stream",
     "text": [
      "wy\n",
      "Katana Sushi\n",
      "28168 Hewitt Ave\n",
      "Everett, WA 96201\n",
      "425-512-9361\n",
      "HW A i a AO\n",
      "Server: Michael C\n",
      "05/11/18 8:47 PM\n",
      "\n",
      "Check #93 Table D2\n",
      "Hamachi Collar $12.00\n",
      "Mega Poke Bowl $17.00\n",
      "Hamachi - Sashimi $12.00\n",
      "Maguro - Sashimi $11.00\n",
      "Salmon - Sashimi $10.00\n",
      "3 Sockeye Salmon - Sashimi\n",
      "\n",
      "$36.00\n",
      "Hamachi Japapeno $12.00\n",
      "Salmon Collar $10.00\n",
      "Escolar - Sashimi $11.00\n",
      "Subtotal $131.00\n",
      "Tax $12.71\n",
      "Total $143.71\n",
      "\n",
      "OKO KKK Say\n",
      "Thank You for your visit.\n",
      "\f",
      "\n"
     ]
    }
   ],
   "source": [
    "print(text)"
   ]
  },
  {
   "cell_type": "code",
   "execution_count": null,
   "id": "d17a5250-9145-48a6-ae0e-e848b3480dbf",
   "metadata": {},
   "outputs": [],
   "source": [
    "images/large-receipt-image-dataset-SRD/1007-receipt.jpg"
   ]
  },
  {
   "cell_type": "code",
   "execution_count": 10,
   "id": "c76b5079-6fc6-4e83-92fc-949420560a35",
   "metadata": {},
   "outputs": [],
   "source": [
    "import numpy as np "
   ]
  },
  {
   "cell_type": "code",
   "execution_count": 12,
   "id": "121d4e95-c620-4474-9c36-a5c88ab06cac",
   "metadata": {},
   "outputs": [
    {
     "data": {
      "text/plain": [
       "array([[1., 1., 1., 1., 1.],\n",
       "       [1., 1., 1., 1., 1.],\n",
       "       [1., 1., 1., 1., 1.],\n",
       "       [1., 1., 1., 1., 1.],\n",
       "       [1., 1., 1., 1., 1.]])"
      ]
     },
     "execution_count": 12,
     "metadata": {},
     "output_type": "execute_result"
    }
   ],
   "source": [
    "np.ones((5,5))\n"
   ]
  },
  {
   "cell_type": "code",
   "execution_count": null,
   "id": "58996acf-86e6-4561-961a-d301c70a70d7",
   "metadata": {},
   "outputs": [],
   "source": []
  }
 ],
 "metadata": {
  "kernelspec": {
   "display_name": "Python 3 (ipykernel)",
   "language": "python",
   "name": "python3"
  },
  "language_info": {
   "codemirror_mode": {
    "name": "ipython",
    "version": 3
   },
   "file_extension": ".py",
   "mimetype": "text/x-python",
   "name": "python",
   "nbconvert_exporter": "python",
   "pygments_lexer": "ipython3",
   "version": "3.9.12"
  }
 },
 "nbformat": 4,
 "nbformat_minor": 5
}
